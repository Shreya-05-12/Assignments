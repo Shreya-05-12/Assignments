{
 "cells": [
  {
   "cell_type": "code",
   "execution_count": null,
   "id": "e1e7e436-f6a1-404e-aa82-624824040b89",
   "metadata": {},
   "outputs": [],
   "source": [
    "import pandas as pd\n",
    "df="
   ]
  },
  {
   "cell_type": "code",
   "execution_count": null,
   "id": "e81792ff-9b71-442f-99c0-3b6b1c2cb6ca",
   "metadata": {},
   "outputs": [],
   "source": []
  },
  {
   "cell_type": "code",
   "execution_count": null,
   "id": "517b38ac-f3d2-4818-bccc-8429f2844da3",
   "metadata": {},
   "outputs": [],
   "source": []
  },
  {
   "cell_type": "code",
   "execution_count": null,
   "id": "fc0bbb95-e4de-4e5d-b4fe-e27172461fe5",
   "metadata": {},
   "outputs": [],
   "source": []
  }
 ],
 "metadata": {
  "kernelspec": {
   "display_name": "Python [conda env:base] *",
   "language": "python",
   "name": "conda-base-py"
  },
  "language_info": {
   "codemirror_mode": {
    "name": "ipython",
    "version": 3
   },
   "file_extension": ".py",
   "mimetype": "text/x-python",
   "name": "python",
   "nbconvert_exporter": "python",
   "pygments_lexer": "ipython3",
   "version": "3.12.7"
  }
 },
 "nbformat": 4,
 "nbformat_minor": 5
}
