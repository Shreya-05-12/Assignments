{
 "cells": [
  {
   "cell_type": "code",
   "execution_count": null,
   "id": "8f6e4b90-c448-4c4a-a51c-7365cccd3997",
   "metadata": {},
   "outputs": [],
   "source": []
  }
 ],
 "metadata": {
  "kernelspec": {
   "display_name": "",
   "name": ""
  },
  "language_info": {
   "name": ""
  }
 },
 "nbformat": 4,
 "nbformat_minor": 5
}
